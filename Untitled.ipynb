{
 "cells": [
  {
   "cell_type": "code",
   "execution_count": 2,
   "metadata": {},
   "outputs": [],
   "source": [
    "import pyaudio\n",
    "import wave\n",
    "import numpy as np\n",
    "import matplotlib.pyplot as plt\n",
    "%matplotlib qt\n",
    "\n",
    "chunk = 1024  # Record in chunks of 1024 samples\n",
    "sample_format = pyaudio.paInt16  # 16 bits per sample\n",
    "channels = 1\n",
    "fs = 8000  # Record at 44100 samples per second\n",
    "seconds = 5\n",
    "filename = \"output.wav\"\n",
    "\n",
    "\n",
    "\n"
   ]
  },
  {
   "cell_type": "code",
   "execution_count": 64,
   "metadata": {},
   "outputs": [
    {
     "name": "stdout",
     "output_type": "stream",
     "text": [
      "Recording\n",
      "Finished recording\n"
     ]
    }
   ],
   "source": [
    "print('Recording')\n",
    "p = pyaudio.PyAudio()  # Create an interface to PortAudio\n",
    "stream = p.open(format=sample_format,\n",
    "                channels=channels,\n",
    "                rate=fs,\n",
    "                frames_per_buffer=chunk,\n",
    "                input=True)\n",
    "\n",
    "frames = []  # Initialize array to store frames\n",
    "\n",
    "# Store data in chunks for 3 seconds\n",
    "# for i in range(0, int((fs / chunk) * seconds)):\n",
    "#     data = stream.read(chunk)\n",
    "#     frames.append(data)\n",
    "\n",
    "\n",
    "data = stream.read(fs * seconds)\n",
    "# data = \"\".join(frames)\n",
    "\n",
    "# Stop and close the stream \n",
    "stream.stop_stream()\n",
    "stream.close()\n",
    "\n",
    "# playback\n",
    "stream = p.open(format = sample_format,\n",
    "                channels = channels,\n",
    "                rate = fs,\n",
    "                output = True)\n",
    "\n",
    "# for f in frames:\n",
    "#     stream.write(f)\n",
    "stream.write(data)\n",
    "\n",
    "stream.close()\n",
    "# Terminate the PortAudio interface\n",
    "p.terminate()\n",
    "\n",
    "print('Finished recording')"
   ]
  },
  {
   "cell_type": "code",
   "execution_count": 3,
   "metadata": {},
   "outputs": [
    {
     "ename": "NameError",
     "evalue": "name 'data' is not defined",
     "output_type": "error",
     "traceback": [
      "\u001b[1;31m---------------------------------------------------------------------------\u001b[0m",
      "\u001b[1;31mNameError\u001b[0m                                 Traceback (most recent call last)",
      "\u001b[1;32m<ipython-input-3-537a2776ab73>\u001b[0m in \u001b[0;36m<module>\u001b[1;34m\u001b[0m\n\u001b[0;32m      1\u001b[0m \u001b[0mdescribe\u001b[0m \u001b[1;33m=\u001b[0m \u001b[1;32mlambda\u001b[0m \u001b[0mx\u001b[0m\u001b[1;33m:\u001b[0m \u001b[0mprint\u001b[0m\u001b[1;33m(\u001b[0m\u001b[1;33m[\u001b[0m\u001b[1;33m(\u001b[0m\u001b[0mf\u001b[0m\u001b[1;33m.\u001b[0m\u001b[0m__name__\u001b[0m\u001b[1;33m,\u001b[0m \u001b[0mf\u001b[0m\u001b[1;33m(\u001b[0m\u001b[0mx\u001b[0m\u001b[1;33m)\u001b[0m\u001b[1;33m)\u001b[0m \u001b[1;32mfor\u001b[0m \u001b[0mf\u001b[0m \u001b[1;32min\u001b[0m \u001b[1;33m(\u001b[0m\u001b[0mlen\u001b[0m\u001b[1;33m,\u001b[0m \u001b[0mmin\u001b[0m\u001b[1;33m,\u001b[0m \u001b[0mmax\u001b[0m\u001b[1;33m,\u001b[0m \u001b[0mtype\u001b[0m\u001b[1;33m)\u001b[0m\u001b[1;33m]\u001b[0m\u001b[1;33m)\u001b[0m\u001b[1;33m\u001b[0m\u001b[1;33m\u001b[0m\u001b[0m\n\u001b[1;32m----> 2\u001b[1;33m \u001b[0mdescribe\u001b[0m\u001b[1;33m(\u001b[0m\u001b[0mdata\u001b[0m\u001b[1;33m)\u001b[0m\u001b[1;33m\u001b[0m\u001b[1;33m\u001b[0m\u001b[0m\n\u001b[0m\u001b[0;32m      3\u001b[0m \u001b[0mdt\u001b[0m \u001b[1;33m=\u001b[0m \u001b[0mnp\u001b[0m\u001b[1;33m.\u001b[0m\u001b[0mdtype\u001b[0m\u001b[1;33m(\u001b[0m\u001b[0mnp\u001b[0m\u001b[1;33m.\u001b[0m\u001b[0muint16\u001b[0m\u001b[1;33m)\u001b[0m\u001b[1;33m\u001b[0m\u001b[1;33m\u001b[0m\u001b[0m\n\u001b[0;32m      4\u001b[0m \u001b[0mdt\u001b[0m \u001b[1;33m=\u001b[0m \u001b[0mdt\u001b[0m\u001b[1;33m.\u001b[0m\u001b[0mnewbyteorder\u001b[0m\u001b[1;33m(\u001b[0m\u001b[1;34m'>'\u001b[0m\u001b[1;33m)\u001b[0m\u001b[1;33m\u001b[0m\u001b[1;33m\u001b[0m\u001b[0m\n\u001b[0;32m      5\u001b[0m \u001b[0mndata\u001b[0m \u001b[1;33m=\u001b[0m \u001b[0mnp\u001b[0m\u001b[1;33m.\u001b[0m\u001b[0mfrombuffer\u001b[0m\u001b[1;33m(\u001b[0m\u001b[0mdata\u001b[0m\u001b[1;33m,\u001b[0m \u001b[0mdtype\u001b[0m\u001b[1;33m=\u001b[0m\u001b[0mdt\u001b[0m\u001b[1;33m)\u001b[0m\u001b[1;33m\u001b[0m\u001b[1;33m\u001b[0m\u001b[0m\n",
      "\u001b[1;31mNameError\u001b[0m: name 'data' is not defined"
     ]
    }
   ],
   "source": [
    "describe = lambda x: print([(f.__name__, f(x)) for f in (len, min, max, type)])\n",
    "describe(data)\n",
    "dt = np.dtype(np.uint16)\n",
    "dt = dt.newbyteorder('>')\n",
    "ndata = np.frombuffer(data, dtype=dt) \n",
    "# ndata = np.array([b for b in data])\n",
    "ndata = np.float16(ndata / 2**15) - 1\n",
    "describe(ndata)\n",
    "\n",
    "\n"
   ]
  },
  {
   "cell_type": "code",
   "execution_count": 66,
   "metadata": {},
   "outputs": [],
   "source": [
    "def plot_ts(ts):\n",
    "    total_ts_sec = len(data)/fs\n",
    "    print(\"The total time series length = {} sec (N points = {}) \".format(total_ts_sec, len(ts)))\n",
    "    plt.figure(figsize=(20,3))\n",
    "    plt.plot(ts)\n",
    "    plt.xticks(np.arange(0,len(ts),fs), \n",
    "               np.arange(0,len(ts)/fs,1)) # xticks is the labeling on the x-axis. pretty neat\n",
    "    plt.ylabel(\"Amplitude\")\n",
    "    plt.xlabel(\"Time (second)\")\n",
    "    plt.title(\"The total length of time series = {} sec, sample_rate = {}\".format(len(ts)/fs, fs))\n",
    "    plt.show()\n",
    "    \n",
    "def plot_spec(ts, NFFT=1024):\n",
    "#     NFFT = 1024  # the length of the windowing segments\n",
    "#     Fs = int(1.0 / dt)  # the sampling frequency\n",
    "\n",
    "    fig, (ax1, ax2) = plt.subplots(nrows=2, figsize=(20,10))\n",
    "    \n",
    "    ax1.plot(np.arange(0,len(ts)/fs,1/fs), ts)\n",
    "\n",
    "    Pxx, freqs, bins, im = ax2.specgram(ts, NFFT=NFFT, Fs=fs, noverlap=256)\n",
    "    # The `specgram` method returns 4 objects. They are:\n",
    "    # - Pxx: the periodogram\n",
    "    # - freqs: the frequency vector\n",
    "    # - bins: the centers of the time bins\n",
    "    # - im: the matplotlib.image.AxesImage instance representing the data in the plot\n",
    "    plt.show()\n",
    "# plot_ts(ndata)\n",
    "plot_spec(ndata, NFFT=512)\n",
    "# plot_spec(np.sin(2 * np.pi * 440. * np.arange(0., 3., 1/fs)))"
   ]
  }
 ],
 "metadata": {
  "kernelspec": {
   "display_name": "Python 3",
   "language": "python",
   "name": "python3"
  },
  "language_info": {
   "codemirror_mode": {
    "name": "ipython",
    "version": 3
   },
   "file_extension": ".py",
   "mimetype": "text/x-python",
   "name": "python",
   "nbconvert_exporter": "python",
   "pygments_lexer": "ipython3",
   "version": "3.7.4"
  }
 },
 "nbformat": 4,
 "nbformat_minor": 2
}
