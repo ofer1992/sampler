{
 "cells": [
  {
   "cell_type": "markdown",
   "metadata": {},
   "source": [
    "#  Dev Journal\n",
    "\n",
    "I'm trying a new thing, using jupyter notebook as a development journal for this project. Suppose will see how it goes. Anyway, up until now I managed to understand wav files better and play them back. I also have some rudimentry GUI, with a waveform display."
   ]
  },
  {
   "cell_type": "markdown",
   "metadata": {},
   "source": [
    "## 23/3/20 - Session 4\n",
    "\n",
    "I figured in this session I'll improve our playback capabilities. Aiming for concurrent playback and pausing (so it won't hang up program), GUI buttons for controlling and playing just the selected section.\n",
    "\n",
    "So play now invokes a thread for play_sample. The separation of code to gui.py and sampler.py is in the way of implementing a pause. I can bring the implementation higher so the code resides in the Player widget, but then it will have to change if I decide to use something other than pyaudio later. On the other hand, the playback is a loop, and how do I pause a loop from outside?\n",
    "\n",
    "reading around. found all these crazy libraries for python and audio handling. remember, we want to build our own instead of using someone else's library. found a musicplayer library in python with nice separation between gui and player. I don't want to use it as it will require too much learning, but perhaps I can take that idea. So now I need to write a simple terminal music player?\n",
    "\n",
    "Perhaps use pyglet, seems like there's a media player there. Let's give it a try here"
   ]
  },
  {
   "cell_type": "raw",
   "metadata": {},
   "source": [
    "from pyglet.media import *\n",
    "from pyglet.media.codecs.base import Source\n"
   ]
  },
  {
   "cell_type": "raw",
   "metadata": {},
   "source": [
    "player = Player()\n",
    "player.loop = False\n",
    "source = load('Delvon Lamarr Organ Trio - Move On Up (Live on KEXP).wav', streaming=False)\n",
    "player.queue(source)\n",
    "player.play()\n",
    "# player.pause()"
   ]
  },
  {
   "cell_type": "raw",
   "metadata": {
    "scrolled": false
   },
   "source": [
    "import wave\n",
    "with wave.open('short_move.wav') as sm:\n",
    "    sm_data = sm.readframes(sm.getnframes())\n"
   ]
  },
  {
   "cell_type": "raw",
   "metadata": {},
   "source": [
    "source._data = sm_data[:10000] + sm_data[::-1]"
   ]
  },
  {
   "cell_type": "raw",
   "metadata": {},
   "source": [
    "p = source.play()"
   ]
  },
  {
   "cell_type": "code",
   "execution_count": 15,
   "metadata": {},
   "outputs": [],
   "source": [
    "def pause_all():\n",
    "    from pyglet.media.codecs.base import Source\n",
    "    for p in Source._players:\n",
    "        p.pause()\n",
    "pause_all()"
   ]
  },
  {
   "cell_type": "markdown",
   "metadata": {},
   "source": [
    "Hacking around. First approach too create my own sources without saving to file and reloading is totally evil, accessing `source._data`. Next is trying to create the source myself. Better yet, you can feed `load(...)` your own decoder, so I could abuse it to create new sources. Should I use my own implementation of sample and decode it?\n",
    "\n",
    "Wrote SampleSource and SampleDecoder. They are based on my current Sample implementation. Also, currently all that is in `sampler.py` so hopefully separated from GUI. Now I'm trying to figure out how to work with players a bit more."
   ]
  },
  {
   "cell_type": "raw",
   "metadata": {},
   "source": [
    "player = Player()\n",
    "source = load('short_move.wav', streaming=False)\n",
    "player.queue(source)\n",
    "player.play()\n",
    "print(Source._players)"
   ]
  },
  {
   "cell_type": "raw",
   "metadata": {},
   "source": [
    "player.pause()\n",
    "player.next_source()\n",
    "# basically empty the queue every time you add a file."
   ]
  },
  {
   "cell_type": "markdown",
   "metadata": {},
   "source": [
    "Weird error when import one of the pyglet modules. Gonna call it a day. Overall been working for around 5-6 hrs. Not bad."
   ]
  },
  {
   "cell_type": "markdown",
   "metadata": {},
   "source": [
    "## 24/3/20 - Session 5\n",
    "After some investigation, the problems on the surface happens here,\n",
    "\n",
    "`pyglet\\media\\codecs\\wmf.py:829 ole32.CoInitializeEx(None, COINIT_MULTITHREADED)`\n",
    "\n",
    "This fails because somehow it was called before with a different parameter than COINIT_MULTITHREADED. This exception is ignored though, and since it's in __init__ the member self.MFShutdown is not set, and later the program crashes because of this missing attribute. Commenting out line 829 seems to avoid the problem, but definitely just a hack, so worth further investigation.\n",
    "\n",
    "Anyhow, after some minor bug fixing the porgram works, but playback is buggy, just a small part is played, so this is our next stop.\n"
   ]
  },
  {
   "cell_type": "code",
   "execution_count": 14,
   "metadata": {},
   "outputs": [
    {
     "ename": "KeyboardInterrupt",
     "evalue": "",
     "output_type": "error",
     "traceback": [
      "\u001b[1;31m---------------------------------------------------------------------------\u001b[0m",
      "\u001b[1;31mKeyboardInterrupt\u001b[0m                         Traceback (most recent call last)",
      "\u001b[1;32m<ipython-input-14-94ab47c82635>\u001b[0m in \u001b[0;36m<module>\u001b[1;34m\u001b[0m\n\u001b[0;32m      1\u001b[0m \u001b[1;32mimport\u001b[0m \u001b[0mpyglet\u001b[0m\u001b[1;33m\u001b[0m\u001b[1;33m\u001b[0m\u001b[0m\n\u001b[0;32m      2\u001b[0m \u001b[1;32mimport\u001b[0m \u001b[0msampler\u001b[0m\u001b[1;33m\u001b[0m\u001b[1;33m\u001b[0m\u001b[0m\n\u001b[1;32m----> 3\u001b[1;33m \u001b[0mpyglet\u001b[0m\u001b[1;33m.\u001b[0m\u001b[0mapp\u001b[0m\u001b[1;33m.\u001b[0m\u001b[0mrun\u001b[0m\u001b[1;33m(\u001b[0m\u001b[1;33m)\u001b[0m\u001b[1;33m\u001b[0m\u001b[1;33m\u001b[0m\u001b[0m\n\u001b[0m\u001b[0;32m      4\u001b[0m \u001b[0msample\u001b[0m \u001b[1;33m=\u001b[0m \u001b[0msampler\u001b[0m\u001b[1;33m.\u001b[0m\u001b[0mopen_file\u001b[0m\u001b[1;33m(\u001b[0m\u001b[1;34m'Delvon Lamarr Organ Trio - Move On Up (Live on KEXP).wav'\u001b[0m\u001b[1;33m)\u001b[0m\u001b[1;33m\u001b[0m\u001b[1;33m\u001b[0m\u001b[0m\n\u001b[0;32m      5\u001b[0m \u001b[0msource\u001b[0m \u001b[1;33m=\u001b[0m \u001b[0mpyglet\u001b[0m\u001b[1;33m.\u001b[0m\u001b[0mmedia\u001b[0m\u001b[1;33m.\u001b[0m\u001b[0mload\u001b[0m\u001b[1;33m(\u001b[0m\u001b[1;34m''\u001b[0m\u001b[1;33m,\u001b[0m \u001b[0mfile\u001b[0m\u001b[1;33m=\u001b[0m\u001b[0msample\u001b[0m\u001b[1;33m,\u001b[0m \u001b[0mdecoder\u001b[0m\u001b[1;33m=\u001b[0m\u001b[0msampler\u001b[0m\u001b[1;33m.\u001b[0m\u001b[0mSampleDecoder\u001b[0m\u001b[1;33m(\u001b[0m\u001b[1;33m)\u001b[0m\u001b[1;33m)\u001b[0m\u001b[1;33m\u001b[0m\u001b[1;33m\u001b[0m\u001b[0m\n",
      "\u001b[1;32m~\\miniconda3\\lib\\site-packages\\pyglet\\app\\__init__.py\u001b[0m in \u001b[0;36mrun\u001b[1;34m()\u001b[0m\n\u001b[0;32m    105\u001b[0m \u001b[1;33m\u001b[0m\u001b[0m\n\u001b[0;32m    106\u001b[0m     \"\"\"\n\u001b[1;32m--> 107\u001b[1;33m     \u001b[0mevent_loop\u001b[0m\u001b[1;33m.\u001b[0m\u001b[0mrun\u001b[0m\u001b[1;33m(\u001b[0m\u001b[1;33m)\u001b[0m\u001b[1;33m\u001b[0m\u001b[1;33m\u001b[0m\u001b[0m\n\u001b[0m\u001b[0;32m    108\u001b[0m \u001b[1;33m\u001b[0m\u001b[0m\n\u001b[0;32m    109\u001b[0m \u001b[1;33m\u001b[0m\u001b[0m\n",
      "\u001b[1;32m~\\miniconda3\\lib\\site-packages\\pyglet\\app\\base.py\u001b[0m in \u001b[0;36mrun\u001b[1;34m(self)\u001b[0m\n\u001b[0;32m    169\u001b[0m             \u001b[0mself\u001b[0m\u001b[1;33m.\u001b[0m\u001b[0m_run_estimated\u001b[0m\u001b[1;33m(\u001b[0m\u001b[1;33m)\u001b[0m\u001b[1;33m\u001b[0m\u001b[1;33m\u001b[0m\u001b[0m\n\u001b[0;32m    170\u001b[0m         \u001b[1;32melse\u001b[0m\u001b[1;33m:\u001b[0m\u001b[1;33m\u001b[0m\u001b[1;33m\u001b[0m\u001b[0m\n\u001b[1;32m--> 171\u001b[1;33m             \u001b[0mself\u001b[0m\u001b[1;33m.\u001b[0m\u001b[0m_run\u001b[0m\u001b[1;33m(\u001b[0m\u001b[1;33m)\u001b[0m\u001b[1;33m\u001b[0m\u001b[1;33m\u001b[0m\u001b[0m\n\u001b[0m\u001b[0;32m    172\u001b[0m \u001b[1;33m\u001b[0m\u001b[0m\n\u001b[0;32m    173\u001b[0m         \u001b[0mself\u001b[0m\u001b[1;33m.\u001b[0m\u001b[0mis_running\u001b[0m \u001b[1;33m=\u001b[0m \u001b[1;32mFalse\u001b[0m\u001b[1;33m\u001b[0m\u001b[1;33m\u001b[0m\u001b[0m\n",
      "\u001b[1;32m~\\miniconda3\\lib\\site-packages\\pyglet\\app\\base.py\u001b[0m in \u001b[0;36m_run\u001b[1;34m(self)\u001b[0m\n\u001b[0;32m    182\u001b[0m         \u001b[1;32mwhile\u001b[0m \u001b[1;32mnot\u001b[0m \u001b[0mself\u001b[0m\u001b[1;33m.\u001b[0m\u001b[0mhas_exit\u001b[0m\u001b[1;33m:\u001b[0m\u001b[1;33m\u001b[0m\u001b[1;33m\u001b[0m\u001b[0m\n\u001b[0;32m    183\u001b[0m             \u001b[0mtimeout\u001b[0m \u001b[1;33m=\u001b[0m \u001b[0mself\u001b[0m\u001b[1;33m.\u001b[0m\u001b[0midle\u001b[0m\u001b[1;33m(\u001b[0m\u001b[1;33m)\u001b[0m\u001b[1;33m\u001b[0m\u001b[1;33m\u001b[0m\u001b[0m\n\u001b[1;32m--> 184\u001b[1;33m             \u001b[0mplatform_event_loop\u001b[0m\u001b[1;33m.\u001b[0m\u001b[0mstep\u001b[0m\u001b[1;33m(\u001b[0m\u001b[0mtimeout\u001b[0m\u001b[1;33m)\u001b[0m\u001b[1;33m\u001b[0m\u001b[1;33m\u001b[0m\u001b[0m\n\u001b[0m\u001b[0;32m    185\u001b[0m \u001b[1;33m\u001b[0m\u001b[0m\n\u001b[0;32m    186\u001b[0m     \u001b[1;32mdef\u001b[0m \u001b[0m_run_estimated\u001b[0m\u001b[1;33m(\u001b[0m\u001b[0mself\u001b[0m\u001b[1;33m)\u001b[0m\u001b[1;33m:\u001b[0m\u001b[1;33m\u001b[0m\u001b[1;33m\u001b[0m\u001b[0m\n",
      "\u001b[1;32m~\\miniconda3\\lib\\site-packages\\pyglet\\app\\win32.py\u001b[0m in \u001b[0;36mstep\u001b[1;34m(self, timeout)\u001b[0m\n\u001b[0;32m    108\u001b[0m             \u001b[1;32mFalse\u001b[0m\u001b[1;33m,\u001b[0m\u001b[1;33m\u001b[0m\u001b[1;33m\u001b[0m\u001b[0m\n\u001b[0;32m    109\u001b[0m             \u001b[0mtimeout\u001b[0m\u001b[1;33m,\u001b[0m\u001b[1;33m\u001b[0m\u001b[1;33m\u001b[0m\u001b[0m\n\u001b[1;32m--> 110\u001b[1;33m             constants.QS_ALLINPUT)\n\u001b[0m\u001b[0;32m    111\u001b[0m         \u001b[0mresult\u001b[0m \u001b[1;33m-=\u001b[0m \u001b[0mconstants\u001b[0m\u001b[1;33m.\u001b[0m\u001b[0mWAIT_OBJECT_0\u001b[0m\u001b[1;33m\u001b[0m\u001b[1;33m\u001b[0m\u001b[0m\n\u001b[0;32m    112\u001b[0m \u001b[1;33m\u001b[0m\u001b[0m\n",
      "\u001b[1;31mKeyboardInterrupt\u001b[0m: "
     ]
    }
   ],
   "source": [
    "import pyglet\n",
    "import sampler\n",
    "pyglet.app.run()\n",
    "sample = sampler.open_file('Delvon Lamarr Organ Trio - Move On Up (Live on KEXP).wav')\n",
    "source = pyglet.media.load('', file=sample, decoder=sampler.SampleDecoder())\n",
    "source2 = pyglet.media.load('Delvon Lamarr Organ Trio - Move On Up (Live on KEXP).wav')\n",
    "\n",
    "p = source2.play()\n",
    "\n",
    "p.play()\n",
    "# p.pause()"
   ]
  },
  {
   "cell_type": "markdown",
   "metadata": {},
   "source": [
    "Okay it might actually be a bug in pyglet or something? Cause the original code I wrote above also has this strange looping. So it seems we need to tick pyglet's clock, ie advance it's event loop.\n",
    "\n",
    "Huh, apparently there's a Qt media player... Well, if it doesn't workout with pyglet we'll have something else to try.\n",
    "\n",
    "Found out about QTimer, a way to add your own code to Qt event loop. I can now play, pause and stop, with current timestamp displayed. Pretty sweet. Still some nagging issues, program hangs when running not in debug. Also waveform is super slow, and just found out the timestamp keeps running when song is over.\n",
    "\n",
    "Gonna call it a day. Next session I'll integrate the waveform display."
   ]
  }
 ],
 "metadata": {
  "kernelspec": {
   "display_name": "Python 3",
   "language": "python",
   "name": "python3"
  },
  "language_info": {
   "codemirror_mode": {
    "name": "ipython",
    "version": 3
   },
   "file_extension": ".py",
   "mimetype": "text/x-python",
   "name": "python",
   "nbconvert_exporter": "python",
   "pygments_lexer": "ipython3",
   "version": "3.7.6"
  }
 },
 "nbformat": 4,
 "nbformat_minor": 4
}
